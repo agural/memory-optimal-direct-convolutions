{
 "cells": [
  {
   "cell_type": "markdown",
   "metadata": {},
   "source": [
    "# MNIST - Arduino\n",
    "\n",
    "This notebook has code for interfacing with the Arduino:\n",
    "1. Generate a serialized version of the network\n",
    "1. Generate test vectors using only numpy operations for verification\n",
    "1. Sets up serial communications to an Aruino and runs test set"
   ]
  },
  {
   "cell_type": "code",
   "execution_count": 1,
   "metadata": {},
   "outputs": [
    {
     "name": "stderr",
     "output_type": "stream",
     "text": [
      "Using TensorFlow backend.\n"
     ]
    }
   ],
   "source": [
    "from __future__ import absolute_import, division, print_function\n",
    "import os, sys, pdb, pickle\n",
    "from itertools import product\n",
    "import numpy as np\n",
    "import scipy as sp\n",
    "import matplotlib.pyplot as plt\n",
    "\n",
    "import serial\n",
    "import binascii\n",
    "\n",
    "import tensorflow as tf\n",
    "import keras\n",
    "from keras.datasets import mnist\n",
    "from keras.models import Model, Sequential, load_model\n",
    "from keras.layers import Input, Dense, Dropout, Flatten, Conv2D, MaxPooling2D, AveragePooling2D, Lambda, Activation, Add, concatenate\n",
    "from keras.callbacks import LearningRateScheduler, ModelCheckpoint\n",
    "from keras.engine.topology import Layer\n",
    "from keras import regularizers, activations\n",
    "from keras import backend as K\n",
    "\n",
    "from quantization_layers import *\n",
    "from network_parameterization import *\n",
    "\n",
    "os.environ['CUDA_VISIBLE_DEVICES']=''"
   ]
  },
  {
   "cell_type": "code",
   "execution_count": null,
   "metadata": {},
   "outputs": [],
   "source": []
  },
  {
   "cell_type": "markdown",
   "metadata": {},
   "source": [
    "## Load data, model, and print model statistics"
   ]
  },
  {
   "cell_type": "code",
   "execution_count": 2,
   "metadata": {},
   "outputs": [
    {
     "name": "stdout",
     "output_type": "stream",
     "text": [
      "x_train shape: (50000, 28, 28, 1)\n",
      "50000 train samples\n",
      "10000 val samples\n",
      "10000 test samples\n"
     ]
    }
   ],
   "source": [
    "num_classes = 10\n",
    "\n",
    "# Grab and massage the training and test data.\n",
    "(x_train, y_train), (x_test, y_test) = mnist.load_data()\n",
    "img_rows, img_cols = x_train.shape[1:3]\n",
    "\n",
    "x_train = x_train.astype('i')\n",
    "x_test  = x_test.astype('i')\n",
    "x_train = x_train.reshape(x_train.shape[0], img_rows, img_cols, 1)\n",
    "x_test  = x_test.reshape(x_test.shape[0], img_rows, img_cols, 1)\n",
    "input_shape = (img_rows, img_cols, 1)\n",
    "\n",
    "y_train = keras.utils.to_categorical(y_train, num_classes)\n",
    "y_test = keras.utils.to_categorical(y_test, num_classes)\n",
    "\n",
    "np.random.seed(0)\n",
    "val_set = np.zeros(x_train.shape[0], dtype='bool')\n",
    "val_set[np.random.choice(x_train.shape[0], 10000, replace=False)] = 1\n",
    "x_val = x_train[val_set]\n",
    "y_val = y_train[val_set]\n",
    "x_train = x_train[~val_set]\n",
    "y_train = y_train[~val_set]\n",
    "\n",
    "print('x_train shape:', x_train.shape)\n",
    "print(x_train.shape[0], 'train samples')\n",
    "print(x_val.shape[0], 'val samples')\n",
    "print(x_test.shape[0], 'test samples')"
   ]
  },
  {
   "cell_type": "code",
   "execution_count": 3,
   "metadata": {},
   "outputs": [
    {
     "name": "stdout",
     "output_type": "stream",
     "text": [
      "input_11 => average_pooling2d_11 => lambda_11 => conv_q_31 => conv_q_32 => conv_q_33 => max_pooling2d_11 => dropout_11 => flatten_11 => dense_q_11 => activation_11\n"
     ]
    }
   ],
   "source": [
    "model_file = 'models/modelQL_0.h5'\n",
    "model = load_model(model_file, custom_objects={'DenseQ':DenseQ, 'ConvQ':ConvQ, 'ResidQ':ResidQ, 'quantize':quantize, 'concatenate':concatenate})\n",
    "print(' => '.join(map(lambda x: x.name, model.layers)))"
   ]
  },
  {
   "cell_type": "code",
   "execution_count": 4,
   "metadata": {},
   "outputs": [
    {
     "name": "stdout",
     "output_type": "stream",
     "text": [
      "[14, 14, 1] 0 98.0\n",
      "[12, 12, 5] 27.5 364.5\n",
      "[10, 10, 8] 215.5 434.5\n",
      "[8, 8, 11] 622.5 434.5\n",
      "[4, 4, 11] 622.5 434.5\n",
      "[4, 4, 11] 622.5 434.5\n",
      "[10] 1512.5 434.5\n",
      "1947.0 Bytes\n"
     ]
    }
   ],
   "source": [
    "config = [('A', 2, 4), ('C', 5, 3, 3, 1, 1, 4, 8, 4), ('C', 8, 3, 3, 1, 1, 4, 8, 4), ('C', 11, 3, 3, 1, 1, 4, 8, 4), ('M', 2, 4), ('D', 0.1, 4), ('S', 10, 4, 8, 8)]\n",
    "storage = compute_storage(config, verbose=True)\n",
    "print(sum(storage), 'Bytes')"
   ]
  },
  {
   "cell_type": "code",
   "execution_count": null,
   "metadata": {
    "collapsed": true
   },
   "outputs": [],
   "source": []
  },
  {
   "cell_type": "markdown",
   "metadata": {},
   "source": [
    "## Generate the network serialization"
   ]
  },
  {
   "cell_type": "code",
   "execution_count": 9,
   "metadata": {},
   "outputs": [
    {
     "name": "stdout",
     "output_type": "stream",
     "text": [
      "Dump is 3050 nibbles long (1525.0 B)\n",
      "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\n"
     ]
    }
   ],
   "source": [
    "def quant_int(x, bits, scale, signed):\n",
    "    midrise = signed and (bits <= 2)\n",
    "    qmax = 2**(bits-1) if signed else 2**bits\n",
    "    s = x * qmax / scale\n",
    "    rounded = np.floor(s)+0.5 if midrise else np.round(s)\n",
    "    return np.clip(rounded, -qmax + midrise*0.5 if signed else 0, qmax - 1 + midrise*0.5).astype('i1')\n",
    "\n",
    "def serialize(qw, input_size):\n",
    "    nibbles = [ len(qw), input_size[2], input_size[0]//16, input_size[0]%16, input_size[1]//16, input_size[1]%16 ]\n",
    "    for l in qw:\n",
    "        layer_idx = {'A':0, 'C':1, 'D':2, 'M':3, 'R':4}[l['name'][0].upper()] # includes kernel size\n",
    "        if l['params']:\n",
    "            nibbles += [ layer_idx, l['b'].size ] + l['s']\n",
    "        else:\n",
    "            nibbles += [ layer_idx ]\n",
    "    if len(nibbles) % 2: nibbles.append(0)\n",
    "    for l in qw:\n",
    "        if not l['params']: continue\n",
    "        nibbles += list(l['W'].flatten())\n",
    "        for e in l['b']: nibbles += [ e//16, e%16 ]\n",
    "    if len(nibbles) % 2: nibbles.append(0)\n",
    "    nib = map(lambda x: \"%x\"%(x if x >= 0 else 16+x), nibbles)\n",
    "    nib = ''.join(nib)\n",
    "    msg_len = len(nib) // 2\n",
    "    nib = \"%04x\"%(msg_len) + nib\n",
    "    #hexnib = ''.join([ '\\\\x' + nib[2*i:2*i+2] for i in range(len(nib)//2)])\n",
    "    return nib\n",
    "\n",
    "qw = []\n",
    "tx = 0\n",
    "for layer in model.layers:\n",
    "    ws = layer.get_weights()\n",
    "    if len(ws) < 2:\n",
    "        if layer.name[:7] == 'average': qw.append({'name': layer.name, 'params': False})\n",
    "        if layer.name[:3] == 'max': qw.append({'name': layer.name, 'params': False})\n",
    "        continue\n",
    "    w = ws[0]\n",
    "    b = ws[1]\n",
    "    tw = np.round(ws[2])\n",
    "    tb = np.round(ws[3])\n",
    "    ta = np.round(ws[4])\n",
    "    \n",
    "    tx = tx + tw\n",
    "    w = quant_int(w, 4, 2**tw, True).astype('i1')\n",
    "    if layer.name[:4] == 'conv': w = np.transpose(w, (3, 0, 1, 2))\n",
    "    b = quant_int(b, 8, 2**tb, True).astype('i1')\n",
    "    s1 = tx - tb\n",
    "    s2 = 2 + ta - tb\n",
    "    tx = ta\n",
    "    qw.append({\n",
    "        'name': layer.name,\n",
    "        'params': True,\n",
    "        'W': w,\n",
    "        'b': b,\n",
    "        's': [int(s1), int(s2)],\n",
    "    })\n",
    "\n",
    "dump = serialize(qw, (28,28,1))\n",
    "print('Dump is %d nibbles long (%.1f B)'%(len(dump)-4, (len(dump)-4)/2))\n",
    "print(dump)"
   ]
  },
  {
   "cell_type": "code",
   "execution_count": null,
   "metadata": {
    "collapsed": true
   },
   "outputs": [],
   "source": []
  },
  {
   "cell_type": "markdown",
   "metadata": {
    "collapsed": true
   },
   "source": [
    "## Implement the quantized neural network entirely with numpy\n",
    "\n",
    "This allows us to make sure we know exactly what computations are being performed. We also run through the validation set to see where (if any) discrepancies are between this implementation and TensorFlow's."
   ]
  },
  {
   "cell_type": "code",
   "execution_count": 9,
   "metadata": {},
   "outputs": [],
   "source": [
    "def shift_round(x, s):\n",
    "    '''\n",
    "    This is the way TensorFlow rounds numbers (0.5 is rounded to the nearest even).\n",
    "    '''\n",
    "    exact50 = (np.bitwise_and(x, 2**(s+1) - 1) == 2**s).astype('i2')\n",
    "    x = np.right_shift(x, s)\n",
    "    geq50 = np.bitwise_and(x, 1)\n",
    "    x = np.right_shift(x, 1)\n",
    "    x += geq50\n",
    "    odd = np.where(np.bitwise_and(x, 1))\n",
    "    x[odd] -= exact50[odd]\n",
    "    return x"
   ]
  },
  {
   "cell_type": "code",
   "execution_count": 10,
   "metadata": {},
   "outputs": [],
   "source": [
    "def evaluate(qw, image):\n",
    "    act = image\n",
    "    for l in qw:\n",
    "        if l['name'][:7] == 'average':\n",
    "            dr, dc, df = act.shape\n",
    "            act = act.reshape((dr//2,2,dc//2,2,df)).sum(axis=(1,3)) // 2**6\n",
    "            tx = 0\n",
    "        if l['name'][:3] == 'max':\n",
    "            dr, dc, df = act.shape\n",
    "            act = act.reshape((dr//2,2,dc//2,2,df)).max(axis=(1,3))\n",
    "        if l['name'][:4] == 'conv':\n",
    "            dr, dc, df = act.shape\n",
    "            W, b = l['W'], l['b']\n",
    "            s1, s2 = l['s']\n",
    "            part = np.zeros((dr-2, dc-2, b.size), dtype='i2')\n",
    "            for i in range(part.shape[0]):\n",
    "                for j in range(part.shape[1]):\n",
    "                    for o in range(part.shape[2]):\n",
    "                        part[i,j,o] = np.sum(act[i:i+3,j:j+3,:] * W[o,:,:,:])\n",
    "            part = np.maximum(np.left_shift(part, s1) + b[np.newaxis, np.newaxis, :], 0)\n",
    "            act = np.minimum(shift_round(part, s2), 15)\n",
    "        if l['name'][:5] == 'dense':\n",
    "            di = np.prod(act.shape)\n",
    "            W, b = l['W'], l['b']\n",
    "            s1, s2 = l['s']\n",
    "            part = np.dot(act.flatten(), W)\n",
    "            part = np.left_shift(part, s1) + b\n",
    "            act = part\n",
    "        #print(l['name'], act.shape, np.min(act), np.max(act))\n",
    "    return act"
   ]
  },
  {
   "cell_type": "markdown",
   "metadata": {},
   "source": [
    "Here we run the validation set through to see if it perfectly matches TensorFlow. It mismatches in two places, but both are due to using 16-bit logits here instead of 8-bit logits as in the TensorFlow training. 16-bit should on average give better results, so we stick with this."
   ]
  },
  {
   "cell_type": "code",
   "execution_count": 11,
   "metadata": {},
   "outputs": [
    {
     "name": "stdout",
     "output_type": "stream",
     "text": [
      "Baseline accuracy: 0.9909\n",
      "01901/10000: 0.9905    [W] Mismatch on 1900 - true: 9 - base: 4 - quant: 9\n",
      "03547/10000: 0.9910    [W] Mismatch on 3546 - true: 9 - base: 7 - quant: 9\n",
      "10000/10000: 0.9911"
     ]
    }
   ],
   "source": [
    "correct = 0\n",
    "ybs = np.argmax(model.predict(x_val/256), -1)\n",
    "print('Baseline accuracy: %.4f'%(sum(ybs == np.argmax(y_val, -1))/x_val.shape[0]))\n",
    "for i in range(x_val.shape[0]):\n",
    "    yp = np.argmax(evaluate(qw, x_val[i]))\n",
    "    yt = np.argmax(y_val[i])\n",
    "    if yp == yt: correct += 1\n",
    "    print('\\r%05d/%05d: %.4f'%(i+1, x_val.shape[0], correct/(i+1)), end='')\n",
    "    if yp != ybs[i]: print('    [W] Mismatch on %d - true: %d - base: %d - quant: %d'%(i, yt, ybs[i], yp))"
   ]
  },
  {
   "cell_type": "code",
   "execution_count": null,
   "metadata": {
    "collapsed": true
   },
   "outputs": [],
   "source": []
  },
  {
   "cell_type": "markdown",
   "metadata": {},
   "source": [
    "## Generate test vectors\n",
    "\n",
    "This allows us to compare results to Arduino's intermediate results to make sure everything matches 100%."
   ]
  },
  {
   "cell_type": "code",
   "execution_count": 12,
   "metadata": {},
   "outputs": [
    {
     "name": "stdout",
     "output_type": "stream",
     "text": [
      "input 000000000000000000000000000000000000000000000000000000000000000000000000000000000000000000000000000000000000000000000000000000000000000000000000000000000000000bcbe520000000000000000000001a2f2f1e5ffed7d00000000000000002d9ab9b9dffdfd85afffbc1300000000000000006efdfdfdf6a1e4fdfdfe5c000000000000000080f5fd9e8915030e9fde9800000000000000008bfedf190024aafef46a0000000000000000037d4fda1b1ab2fdec7100000000000000000079bfde450dffdfd6d000000000000000000008dfdfdfdfefd9a1d000000000000000000006efdfdfdfeb326000000000000000000003abfefefeb30000000000000000000000abfdfdfdfdb2000000000000000000001a7bfefdcb9cfdc8000000000000000000005dfdfe79d5dfd9e000000000000000000040effd4c820dbfd7e000000000000000000085febf056ceafe6a000000000000000000084fdbe555fdec9a0000000000000000000099fda9c0fdfd4d00000000000000000000070fdfdfeec8190000000000000000000001176f3bf710000000000000000000000000000000000000000000000000000000000000000000000000000000000000000000000000000\n",
      "average 0000000000000000000000000000000000000060000000005696e000000007ea6f900000000aa09d1000000004fce20000000004fe30000000002edd0000000001d75c0000000004d1c80000000004ee700000000000540000000000000000000000\n",
      "conv 6220062200622006220062200622006220062200423022230044000622006220062200622006220042301124020420005200063010802009000622006220062200622003230202806083030c0010c0060b2080e0900904062200622006220062200026050580a0c0340a0460200b08024080e03204162200622006220062200116040100a030950300004000060b0100a0703106220062200622006220050302003080505a0f0050c071000b0703206120062200622006220052200015050270806015080a1030b07023061200622006220062200522000250404a060a0040504a040f30605061210622006220062200622004230102a08080060504200006040c00604062200622006220062200622002140202609040870600008000050c04204162200622006220062200622004130100306020690a048040a2400707031062200622006220062200622006110060000500305008060060703106220062200622006220062200\n",
      "conv 000602200004024004010460052001b0144000e040a001e031c000d0307000a05010202040000c3000060220040203400a300180050000a01000002030000100640000009210800080008000a0000d000006022008020120040000300000000060002203d600410fdd40500b4000f00580009e09e5000c0500060220060300100200000000200004e190061afff000b60030c0000000db0470000f069802060200060230040101600c0300660800203381004000b010b0000000d30230001e038324091001090550010203500a3004800e1000f0060000901050a000d010f206c0000f0772300b30220906500009033008000440091000a000000050000001005020e004d010a202c0700f007464097000080230000602200b0000500000002000000003d550392f3780d0535010b400d0500f007500062000070230000602200600002000000000b0200500e59000000000c00020018b02c2100d03450004010006022000060220030500010107000450001000900060045000450950000b0666050531000603300006022000060220\n",
      "conv 00100000000001000000000000001000000000050000000003210000000010000000000002000000500030000000000000000000000000000100000006000000000010000300003000000003280401000030000000000100000020001000001300020000040000000200000000010500000000a09000000000010000000000000000000000007000000000060007000042400090004000000000000000000006000000000020000000000000000000000000000000000000000000030010000010002000000000000000000400000000000000000000000300000000000000000000000000000000000000000000000000400000000010000000000000000000000000010000000000010000000900000000005000000000a05000000387000100007000000000100000000003000000000000004003000000070000000005010000000080000000000000000000000000000000000000000000000100000000\n",
      "max 0010000000060010050000100003213280405000330000017000700244440009016900000000a2100000000000000000000030210000414000000010000300000000900300000055500000038a0001000170000100003000\n",
      "dense 012afd5b03d00334fe5dfe30fe97fbae0daa016a\n"
     ]
    }
   ],
   "source": [
    "for i in range(-1, len(qw)):\n",
    "    s = (qw[i]['name'].split('_')[0] if i >= 0 else 'input') + ' '\n",
    "    if i < len(qw) - 1:\n",
    "        s += ''.join(map(lambda x: '%x'%x, evaluate(qw[:i+1], x_val[0]).flatten()))\n",
    "    else:\n",
    "        s += ''.join(map(lambda x: '%04x'%((x+2**16)%(2**16)), evaluate(qw[:i+1], x_val[0]).flatten()))\n",
    "    print(s)"
   ]
  },
  {
   "cell_type": "code",
   "execution_count": 13,
   "metadata": {},
   "outputs": [
    {
     "name": "stdout",
     "output_type": "stream",
     "text": [
      "0000000000000000000000000000000000000060000000005696e000000007ea6f900000000aa09d1000000004fce20000000004fe30000000002edd0000000001d75c0000000004d1c80000000004ee700000000000540000000000000000000000\n",
      "6220062200622006220062200622006220062200423022230044000622006220062200622006220042301124020420005200063010802009000622006220062200622003230202806083030c0010c0060b2080e0900904062200622006220062200026050580a0c0340a0460200b08024080e03204162200622006220062200116040100a030950300004000060b0100a0703106220062200622006220050302003080505a0f0050c071000b0703206120062200622006220052200015050270806015080a1030b07023061200622006220062200522000250404a060a0040504a040f30605061210622006220062200622004230102a08080060504200006040c00604062200622006220062200622002140202609040870600008000050c04204162200622006220062200622004130100306020690a048040a2400707031062200622006220062200622006110060000500305008060060703106220062200622006220062200\n",
      "000602200004024004010460052001b0144000e040a001e031c000d0307000a05010202040000c3000060220040203400a300180050000a01000002030000100640000009210800080008000a0000d000006022008020120040000300000000060002203d600410fdd40500b4000f00580009e09e5000c0500060220060300100200000000200004e190061afff000b60030c0000000db0470000f069802060200060230040101600c0300660800203381004000b010b0000000d30230001e038324091001090550010203500a3004800e1000f0060000901050a000d010f206c0000f0772300b30220906500009033008000440091000a000000050000001005020e004d010a202c0700f007464097000080230000602200b0000500000002000000003d550392f3780d0535010b400d0500f007500062000070230000602200600002000000000b0200500e59000000000c00020018b02c2100d03450004010006022000060220030500010107000450001000900060045000450950000b0666050531000603300006022000060220\n",
      "00100000000001000000000000001000000000050000000003210000000010000000000002000000500030000000000000000000000000000100000006000000000010000300003000000003280401000030000000000100000020001000001300020000040000000200000000010500000000a09000000000010000000000000000000000007000000000060007000042400090004000000000000000000006000000000020000000000000000000000000000000000000000000030010000010002000000000000000000400000000000000000000000300000000000000000000000000000000000000000000000000400000000010000000000000000000000000010000000000010000000900000000005000000000a05000000387000100007000000000100000000003000000000000004003000000070000000005010000000080000000000000000000000000000000000000000000000100000000\n",
      "0010000000060010050000100003213280405000330000017000700244440009016900000000a2100000000000000000000030210000414000000010000300000000900300000055500000038a0001000170000100003000\n",
      "012afd5b03d00334fe5dfe30fe97fbae0daa016a\n"
     ]
    }
   ],
   "source": [
    "for i in range(len(qw)):\n",
    "    print(''.join(map(lambda x: '%x'%x if i < len(qw)-1 else '%04x'%((x+2**16)%(2**16)), evaluate(qw[:i+1], x_val[0]).flatten())))"
   ]
  },
  {
   "cell_type": "code",
   "execution_count": null,
   "metadata": {
    "collapsed": true
   },
   "outputs": [],
   "source": []
  },
  {
   "cell_type": "markdown",
   "metadata": {},
   "source": [
    "## Set up communications with the Arduino - debug a single image"
   ]
  },
  {
   "cell_type": "code",
   "execution_count": 7,
   "metadata": {},
   "outputs": [
    {
     "name": "stdout",
     "output_type": "stream",
     "text": [
      "/dev/ttyUSB0 - USB2.0-Serial\n"
     ]
    }
   ],
   "source": [
    "import time\n",
    "import serial.tools.list_ports\n",
    "for x in serial.tools.list_ports.comports():\n",
    "    print(x)\n",
    "\n",
    "# USB serial port for Arduino communications\n",
    "device = '/dev/ttyUSB0'"
   ]
  },
  {
   "cell_type": "code",
   "execution_count": 10,
   "metadata": {},
   "outputs": [
    {
     "name": "stdout",
     "output_type": "stream",
     "text": [
      "0.682: 2a\n",
      "0.682: 01\n",
      "0.683: 5b\n",
      "0.683: fd\n",
      "0.683: d0\n",
      "0.683: 03\n",
      "0.683: 34\n",
      "0.683: 03\n",
      "0.683: 5d\n",
      "0.683: fe\n",
      "0.683: 30\n",
      "0.683: fe\n",
      "0.684: 97\n",
      "0.684: fe\n",
      "0.684: ae\n",
      "0.684: fb\n",
      "0.684: aa\n",
      "0.684: 0d\n",
      "0.684: 6a\n",
      "0.684: 01\n",
      "0.684: 08\n"
     ]
    }
   ],
   "source": [
    "# https://playground.arduino.cc/interfacing/python\n",
    "# http://forum.arduino.cc/index.php?topic=38981.msg287027#msg287027\n",
    "ser = serial.Serial(device, 115200, timeout=2)\n",
    "ser.setDTR(False) # Reset the MCU (not necessary if ser.close())\n",
    "time.sleep(0.022)\n",
    "ser.setDTR(True)\n",
    "while ser.read(): pass\n",
    "ser.write(binascii.a2b_hex(dump))\n",
    "\n",
    "in_str = ''.join(map(lambda x: '%02x'%x, x_val[0].flatten()))\n",
    "ser.write(binascii.a2b_hex(in_str))\n",
    "t0 = time.time()\n",
    "while True:\n",
    "    sr = ser.read()\n",
    "    #if sr: print('%02x'%ord(sr), end='')\n",
    "    if sr: print('%.3f: %02x'%(time.time()-t0, ord(sr)))\n",
    "    else: break\n",
    "\n",
    "ser.close()"
   ]
  },
  {
   "cell_type": "code",
   "execution_count": null,
   "metadata": {
    "collapsed": true
   },
   "outputs": [],
   "source": []
  },
  {
   "cell_type": "markdown",
   "metadata": {},
   "source": [
    "## Set up communications with the Arduino - run entire validation and test sets"
   ]
  },
  {
   "cell_type": "code",
   "execution_count": 547,
   "metadata": {
    "scrolled": true
   },
   "outputs": [
    {
     "name": "stdout",
     "output_type": "stream",
     "text": [
      "On 10000/10000 - Match: 1.0000 - Accuracy: 0.9911 - 86fccffc44ff840801fed00bfffe16fc6a03b60505\n",
      "Overall Match: 1.0000 - Accuracy: 0.9911\n"
     ]
    }
   ],
   "source": [
    "ser = serial.Serial(device, 115200, timeout=1)\n",
    "ser.write(binascii.a2b_hex(dump))\n",
    "\n",
    "num_correct = 0\n",
    "num_match = 0\n",
    "num_total = 0\n",
    "for i in range(x_val.shape[0]):\n",
    "    print('\\rOn %05d/%05d'%(i+1, x_val.shape[0]), end='')\n",
    "    cur = x_val[i]\n",
    "    mr = evaluate(qw, cur)\n",
    "    des = ''.join(map(lambda x: (lambda y: y[-2:]+y[:2])('%04x'%((x+2**16)%(2**16))), mr)) + '%02d'%(np.argmax(mr))\n",
    "    \n",
    "    in_str = ''.join(map(lambda x: '%02x'%x, cur.flatten()))\n",
    "    ser.write(binascii.a2b_hex(in_str))\n",
    "    collect = []\n",
    "    while True:\n",
    "        sr = ser.read()\n",
    "        if sr: collect.append('%02x'%ord(sr))\n",
    "        else: break\n",
    "    result = ''.join(collect)\n",
    "    #print(des, result, des == result)\n",
    "    num_correct += int(('  '+result)[-1:]) == np.argmax(y_val[i])\n",
    "    num_match += (result == des)\n",
    "    num_total += 1\n",
    "    print('\\rOn %05d/%05d - Match: %.4f - Accuracy: %.4f - %s'%(\n",
    "        i+1, x_val.shape[0], num_match/num_total, num_correct/num_total, result), end='')\n",
    "print()\n",
    "print('Overall Match: %.4f - Accuracy: %.4f'%(num_match/num_total, num_correct/num_total))"
   ]
  },
  {
   "cell_type": "code",
   "execution_count": 680,
   "metadata": {},
   "outputs": [
    {
     "name": "stdout",
     "output_type": "stream",
     "text": [
      "On 10000/10000 - Match: 1.0000 - Accuracy: 0.9915 - 720593fb6401ecff0100f0013f0c6ef93603cefd06\n",
      "Overall Match: 1.0000 - Accuracy: 0.9915\n"
     ]
    }
   ],
   "source": [
    "ser = serial.Serial(device, 115200, timeout=1)\n",
    "time.sleep(2)\n",
    "ser.write(binascii.a2b_hex(dump))\n",
    "\n",
    "num_correct = 0\n",
    "num_match = 0\n",
    "num_total = 0\n",
    "for i in range(x_test.shape[0]):\n",
    "    print('\\rOn %05d/%05d'%(i+1, x_test.shape[0]), end='')\n",
    "    cur = x_test[i]\n",
    "    mr = evaluate(qw, cur)\n",
    "    des = ''.join(map(lambda x: (lambda y: y[-2:]+y[:2])('%04x'%((x+2**16)%(2**16))), mr)) + '%02d'%(np.argmax(mr))\n",
    "    \n",
    "    in_str = ''.join(map(lambda x: '%02x'%x, cur.flatten()))\n",
    "    ser.write(binascii.a2b_hex(in_str))\n",
    "    collect = []\n",
    "    while True:\n",
    "        sr = ser.read()\n",
    "        if sr: collect.append('%02x'%ord(sr))\n",
    "        else: break\n",
    "    result = ''.join(collect)\n",
    "    #print(des, result, des == result)\n",
    "    num_correct += int(('  '+result)[-1:]) == np.argmax(y_test[i])\n",
    "    num_match += (result == des)\n",
    "    num_total += 1\n",
    "    print('\\rOn %05d/%05d - Match: %.4f - Accuracy: %.4f - %s'%(\n",
    "        i+1, x_val.shape[0], num_match/num_total, num_correct/num_total, result), end='')\n",
    "print()\n",
    "print('Overall Match: %.4f - Accuracy: %.4f'%(num_match/num_total, num_correct/num_total))"
   ]
  },
  {
   "cell_type": "code",
   "execution_count": null,
   "metadata": {
    "collapsed": true
   },
   "outputs": [],
   "source": []
  }
 ],
 "metadata": {
  "anaconda-cloud": {},
  "kernelspec": {
   "display_name": "Python 2",
   "language": "python",
   "name": "python2"
  },
  "language_info": {
   "codemirror_mode": {
    "name": "ipython",
    "version": 2
   },
   "file_extension": ".py",
   "mimetype": "text/x-python",
   "name": "python",
   "nbconvert_exporter": "python",
   "pygments_lexer": "ipython2",
   "version": "2.7.14"
  }
 },
 "nbformat": 4,
 "nbformat_minor": 2
}
