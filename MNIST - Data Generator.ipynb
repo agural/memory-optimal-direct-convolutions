{
 "cells": [
  {
   "cell_type": "markdown",
   "metadata": {},
   "source": [
    "# MNIST - Data Generator\n",
    "\n",
    "This code generates synthetic MNIST data through elastic transforms and uses a series of filtering steps to reduce the difficulty of the training data."
   ]
  },
  {
   "cell_type": "code",
   "execution_count": 21,
   "metadata": {},
   "outputs": [],
   "source": [
    "from __future__ import absolute_import, division, print_function\n",
    "import os, sys, pdb, pickle\n",
    "from itertools import product\n",
    "import numpy as np\n",
    "import scipy as sp\n",
    "import matplotlib.pyplot as plt\n",
    "\n",
    "import tensorflow as tf\n",
    "import keras\n",
    "from keras.datasets import mnist\n",
    "from keras.models import Model, Sequential, load_model\n",
    "from keras.layers import Input, Dense, Dropout, Flatten, Conv2D, MaxPooling2D, AveragePooling2D, Lambda, Activation, Add\n",
    "from keras.callbacks import LearningRateScheduler, ModelCheckpoint\n",
    "from keras.engine.topology import Layer\n",
    "from keras import regularizers, activations\n",
    "from keras import backend as K\n",
    "\n",
    "os.environ['CUDA_VISIBLE_DEVICES']=''"
   ]
  },
  {
   "cell_type": "markdown",
   "metadata": {},
   "source": [
    "## Define the elastic transform methods.\n",
    "\n",
    "We are using code from [mnist_helpers](https://github.com/vsvinayak/mnist-helper/blob/master/mnist_helpers.py) to generate elastic transforms."
   ]
  },
  {
   "cell_type": "code",
   "execution_count": 22,
   "metadata": {},
   "outputs": [],
   "source": [
    "# Elastic Transforms: https://github.com/vsvinayak/mnist-helper/blob/master/mnist_helpers.py\n",
    "# Other stuff on elastic transforms (not used here):\n",
    "#   - https://evizero.github.io/Augmentor.jl/generated/mnist_elastic/\n",
    "#   - https://www.microsoft.com/en-us/research/wp-content/uploads/2003/08/icdar03.pdf\n",
    "\n",
    "import cv2\n",
    "from scipy.signal import convolve2d\n",
    "\n",
    "def create_2d_gaussian(dim, sigma):\n",
    "    \"\"\"\n",
    "    This function creates a 2d gaussian kernel with the standard deviation\n",
    "    denoted by sigma\n",
    "    \n",
    "    :param dim: integer denoting a side (1-d) of gaussian kernel\n",
    "    :type dim: int\n",
    "    :param sigma: the standard deviation of the gaussian kernel\n",
    "    :type sigma: float\n",
    "    \n",
    "    :returns: a numpy 2d array\n",
    "    \"\"\"\n",
    "\n",
    "    # check if the dimension is odd\n",
    "    if dim % 2 == 0:\n",
    "        raise ValueError(\"Kernel dimension should be odd\")\n",
    "\n",
    "    # initialize the kernel\n",
    "    kernel = np.zeros((dim, dim), dtype=np.float16)\n",
    "\n",
    "    # calculate the center point\n",
    "    center = dim/2\n",
    "\n",
    "    # calculate the variance\n",
    "    variance = sigma ** 2\n",
    "    \n",
    "    # calculate the normalization coefficeint\n",
    "    coeff = 1. / (2 * variance)\n",
    "\n",
    "    # create the kernel\n",
    "    for x in range(0, dim):\n",
    "        for y in range(0, dim):\n",
    "            x_val = abs(x - center)\n",
    "            y_val = abs(y - center)\n",
    "            numerator = x_val**2 + y_val**2\n",
    "            denom = 2*variance\n",
    "            \n",
    "            kernel[x,y] = coeff * np.exp(-1. * numerator/denom)\n",
    "    \n",
    "    # normalise it\n",
    "    return kernel/sum(sum(kernel))\n",
    "\n",
    "def elastic_transform(image, kernel_dim=13, sigma=6, alpha=36, negated=False):\n",
    "    \"\"\"\n",
    "    This method performs elastic transformations on an image by convolving \n",
    "    with a gaussian kernel.\n",
    "    NOTE: Image dimensions should be a sqaure image\n",
    "    \n",
    "    :param image: the input image\n",
    "    :type image: a numpy nd array\n",
    "    :param kernel_dim: dimension(1-D) of the gaussian kernel\n",
    "    :type kernel_dim: int\n",
    "    :param sigma: standard deviation of the kernel\n",
    "    :type sigma: float\n",
    "    :param alpha: a multiplicative factor for image after convolution\n",
    "    :type alpha: float\n",
    "    :param negated: a flag indicating whether the image is negated or not\n",
    "    :type negated: boolean\n",
    "    :returns: a nd array transformed image\n",
    "    \"\"\"\n",
    "    \n",
    "    # convert the image to single channel if it is multi channel one\n",
    "    if image.ndim == 3:\n",
    "        image = cv2.cvtColor(image, cv2.COLOR_BGR2GRAY)\n",
    "\n",
    "    # check if the image is a negated one\n",
    "    if not negated:\n",
    "        image = 255-image\n",
    "\n",
    "    # check if the image is a square one\n",
    "    if image.shape[0] != image.shape[1]:\n",
    "        raise ValueError(\"Image should be of sqaure form\")\n",
    "\n",
    "    # check if kernel dimesnion is odd\n",
    "    if kernel_dim % 2 == 0:\n",
    "        raise ValueError(\"Kernel dimension should be odd\")\n",
    "\n",
    "    # create an empty image\n",
    "    result = np.zeros(image.shape)\n",
    "\n",
    "    # create random displacement fields\n",
    "    displacement_field_x = np.array([[np.random.randint(-1, 2) for x in xrange(image.shape[0])] \\\n",
    "                            for y in xrange(image.shape[1])]) * alpha\n",
    "    displacement_field_y = np.array([[np.random.randint(-1, 2) for x in xrange(image.shape[0])] \\\n",
    "                            for y in xrange(image.shape[1])]) * alpha\n",
    "\n",
    "    # create the gaussian kernel\n",
    "    kernel = create_2d_gaussian(kernel_dim, sigma)\n",
    "\n",
    "    # convolve the fields with the gaussian kernel\n",
    "    displacement_field_x = convolve2d(displacement_field_x, kernel)\n",
    "    displacement_field_y = convolve2d(displacement_field_y, kernel)\n",
    "\n",
    "    # make the distortrd image by averaging each pixel value to the neighbouring\n",
    "    # four pixels based on displacement fields\n",
    "    \n",
    "    for row in xrange(image.shape[1]):\n",
    "        for col in xrange(image.shape[0]):\n",
    "            low_ii = row + int(np.floor(displacement_field_x[row, col]))\n",
    "            high_ii = row + int(np.ceil(displacement_field_x[row, col]))\n",
    "\n",
    "            low_jj = col + int(np.floor(displacement_field_y[row, col]))\n",
    "            high_jj = col + int(np.ceil(displacement_field_y[row, col]))\n",
    "\n",
    "            if low_ii < 0 or low_jj < 0 or high_ii >= image.shape[1] -1 \\\n",
    "               or high_jj >= image.shape[0] - 1:\n",
    "                continue\n",
    "\n",
    "            res = image[low_ii, low_jj]/4 + image[low_ii, high_jj]/4 + \\\n",
    "                    image[high_ii, low_jj]/4 + image[high_ii, high_jj]/4\n",
    "\n",
    "            result[row, col] = res\n",
    "    \n",
    "    # if the input image was not negated, make the output image also a non \n",
    "    # negated one\n",
    "    if not negated:\n",
    "        result = 255-result\n",
    "\n",
    "    return result"
   ]
  },
  {
   "cell_type": "code",
   "execution_count": null,
   "metadata": {},
   "outputs": [],
   "source": []
  },
  {
   "cell_type": "markdown",
   "metadata": {},
   "source": [
    "## Load the MNIST data and view the effects of elastic transforms"
   ]
  },
  {
   "cell_type": "code",
   "execution_count": 23,
   "metadata": {},
   "outputs": [
    {
     "name": "stdout",
     "output_type": "stream",
     "text": [
      "x_train shape: (50000, 28, 28, 1)\n",
      "50000 train samples\n",
      "10000 val samples\n",
      "10000 test samples\n"
     ]
    }
   ],
   "source": [
    "num_classes = 10\n",
    "\n",
    "# Grab and massage the training and test data.\n",
    "(x_train, y_train), (x_test, y_test) = mnist.load_data()\n",
    "img_rows, img_cols = x_train.shape[1:3]\n",
    "\n",
    "x_train = x_train.astype('float32') / 255\n",
    "x_test  = x_test.astype('float32') / 255\n",
    "x_train = x_train.reshape(x_train.shape[0], img_rows, img_cols, 1)\n",
    "x_test  = x_test.reshape(x_test.shape[0], img_rows, img_cols, 1)\n",
    "input_shape = (img_rows, img_cols, 1)\n",
    "\n",
    "y_train = keras.utils.to_categorical(y_train, num_classes)\n",
    "y_test = keras.utils.to_categorical(y_test, num_classes)\n",
    "\n",
    "np.random.seed(0)\n",
    "val_set = np.zeros(x_train.shape[0], dtype='bool')\n",
    "val_set[np.random.choice(x_train.shape[0], 10000, replace=False)] = 1\n",
    "x_val = x_train[val_set]\n",
    "y_val = y_train[val_set]\n",
    "x_train = x_train[~val_set]\n",
    "y_train = y_train[~val_set]\n",
    "\n",
    "print('x_train shape:', x_train.shape)\n",
    "print(x_train.shape[0], 'train samples')\n",
    "print(x_val.shape[0], 'val samples')\n",
    "print(x_test.shape[0], 'test samples')"
   ]
  },
  {
   "cell_type": "code",
   "execution_count": 24,
   "metadata": {},
   "outputs": [
    {
     "data": {
      "image/png": "[encoded data removed]",
      "text/plain": [
       "<Figure size 1152x1152 with 16 Axes>"
      ]
     },
     "metadata": {},
     "output_type": "display_data"
    }
   ],
   "source": [
    "et_i = 0\n",
    "et_k = 13\n",
    "et_s = 6\n",
    "et_a = 36\n",
    "plt.figure(figsize=(16,16))\n",
    "for i in range(4):\n",
    "    for j in range(4):\n",
    "        plt.subplot(4,4,4*i+j+1)\n",
    "        plt.imshow(elastic_transform(np.squeeze(x_train[et_i]), kernel_dim=et_k, sigma=et_s, alpha=et_a, negated=True))\n",
    "plt.show()"
   ]
  },
  {
   "cell_type": "code",
   "execution_count": 4,
   "metadata": {},
   "outputs": [
    {
     "data": {
      "image/png": "[encoded data removed]",
      "text/plain": [
       "<Figure size 1152x1152 with 16 Axes>"
      ]
     },
     "metadata": {},
     "output_type": "display_data"
    }
   ],
   "source": [
    "et_i = 0\n",
    "et_k = 9\n",
    "et_s = 4\n",
    "et_a = 5\n",
    "plt.figure(figsize=(16,16))\n",
    "for i in range(4):\n",
    "    for j in range(4):\n",
    "        plt.subplot(4,4,4*i+j+1)\n",
    "        plt.imshow(elastic_transform(np.squeeze(x_train[et_i]), kernel_dim=et_k, sigma=et_s, alpha=et_a, negated=True))\n",
    "plt.show()"
   ]
  },
  {
   "cell_type": "code",
   "execution_count": null,
   "metadata": {},
   "outputs": [],
   "source": []
  },
  {
   "cell_type": "markdown",
   "metadata": {},
   "source": [
    "## Generate augmented data with \"minor\" elastic transforms"
   ]
  },
  {
   "cell_type": "code",
   "execution_count": 8,
   "metadata": {},
   "outputs": [
    {
     "name": "stdout",
     "output_type": "stream",
     "text": [
      "On 50000/50000\n",
      "Done.\n"
     ]
    }
   ],
   "source": [
    "augx = 4\n",
    "x_train_aug = []\n",
    "y_train_aug = []\n",
    "for i in range(x_train.shape[0]):\n",
    "    print('\\rOn %d/%d'%(i+1, x_train.shape[0]), end='')\n",
    "    y_train_aug += [y_train[i]] * augx\n",
    "    x_train_aug.append(x_train[i])\n",
    "    x = np.squeeze(x_train[i])\n",
    "    for j in range(augx-1):\n",
    "        x_train_aug.append(np.expand_dims(elastic_transform(x, kernel_dim=9, sigma=4, alpha=5, negated=True), -1))\n",
    "x_train_aug = np.array(x_train_aug)\n",
    "y_train_aug = np.array(y_train_aug)\n",
    "print('\\nDone.')"
   ]
  },
  {
   "cell_type": "code",
   "execution_count": 9,
   "metadata": {},
   "outputs": [],
   "source": [
    "with open('augmented_x_200k.npy', 'wb') as f:\n",
    "    np.save(f, x_train_aug)\n",
    "with open('augmented_y_200k.npy', 'wb') as f:\n",
    "    np.save(f, y_train_aug)"
   ]
  },
  {
   "cell_type": "code",
   "execution_count": 2,
   "metadata": {},
   "outputs": [],
   "source": [
    "with open('augmented_x_200k.npy', 'rb') as f:\n",
    "    x_train_aug = np.load(f)\n",
    "with open('augmented_y_200k.npy', 'rb') as f:\n",
    "    y_train_aug = np.load(f)"
   ]
  },
  {
   "cell_type": "code",
   "execution_count": null,
   "metadata": {},
   "outputs": [],
   "source": []
  },
  {
   "cell_type": "markdown",
   "metadata": {},
   "source": [
    "## Generate augmented data with \"major\" elastic transforms"
   ]
  },
  {
   "cell_type": "code",
   "execution_count": 39,
   "metadata": {
    "scrolled": true
   },
   "outputs": [
    {
     "name": "stdout",
     "output_type": "stream",
     "text": [
      "On 50000/50000\n",
      "Done.\n"
     ]
    }
   ],
   "source": [
    "augx = 1\n",
    "x_train_augh = []\n",
    "y_train_augh = []\n",
    "for i in range(x_train.shape[0]):\n",
    "    print('\\rOn %d/%d'%(i+1, x_train.shape[0]), end='')\n",
    "    y_train_augh += [y_train[i]] * augx\n",
    "    x = np.squeeze(x_train[i])\n",
    "    for j in range(augx):\n",
    "        x_train_augh.append(np.expand_dims(elastic_transform(x, kernel_dim=13, sigma=6, alpha=20, negated=True), -1))\n",
    "x_train_augh = np.array(x_train_augh)\n",
    "y_train_augh = np.array(y_train_augh)\n",
    "print('\\nDone.')"
   ]
  },
  {
   "cell_type": "code",
   "execution_count": 40,
   "metadata": {},
   "outputs": [],
   "source": [
    "with open('augmented_x_50kh.npy', 'wb') as f:\n",
    "    np.save(f, x_train_augh)\n",
    "with open('augmented_y_50kh.npy', 'wb') as f:\n",
    "    np.save(f, y_train_augh)"
   ]
  },
  {
   "cell_type": "code",
   "execution_count": 3,
   "metadata": {},
   "outputs": [],
   "source": [
    "with open('augmented_x_50kh.npy', 'rb') as f:\n",
    "    x_train_augh = np.load(f)\n",
    "with open('augmented_y_50kh.npy', 'rb') as f:\n",
    "    y_train_augh = np.load(f)"
   ]
  },
  {
   "cell_type": "code",
   "execution_count": null,
   "metadata": {},
   "outputs": [],
   "source": []
  },
  {
   "cell_type": "markdown",
   "metadata": {},
   "source": [
    "## Remove \"bad\" augmented data from the minor-elastic-deformation dataset\n",
    "\n",
    "First, train a powerful CNN on the original MNIST dataset. Use that model to predict the classes of the augmented dataset and throw out any data that is not correctly predicted."
   ]
  },
  {
   "cell_type": "code",
   "execution_count": 6,
   "metadata": {},
   "outputs": [
    {
     "name": "stdout",
     "output_type": "stream",
     "text": [
      "x_train shape: (50000, 28, 28, 1)\n",
      "50000 train samples\n",
      "10000 val samples\n",
      "10000 test samples\n"
     ]
    }
   ],
   "source": [
    "num_classes = 10\n",
    "\n",
    "# Grab and massage the training and test data.\n",
    "(x_train, y_train), (x_test, y_test) = mnist.load_data()\n",
    "img_rows, img_cols = x_train.shape[1:3]\n",
    "\n",
    "x_train = x_train.astype('float32') / 255\n",
    "x_test  = x_test.astype('float32') / 255\n",
    "x_train = x_train.reshape(x_train.shape[0], img_rows, img_cols, 1)\n",
    "x_test  = x_test.reshape(x_test.shape[0], img_rows, img_cols, 1)\n",
    "input_shape = (img_rows, img_cols, 1)\n",
    "\n",
    "y_train = keras.utils.to_categorical(y_train, num_classes)\n",
    "y_test = keras.utils.to_categorical(y_test, num_classes)\n",
    "\n",
    "np.random.seed(0)\n",
    "val_set = np.zeros(x_train.shape[0], dtype='bool')\n",
    "val_set[np.random.choice(x_train.shape[0], 10000, replace=False)] = 1\n",
    "x_val = x_train[val_set]\n",
    "y_val = y_train[val_set]\n",
    "x_train = x_train[~val_set]\n",
    "y_train = y_train[~val_set]\n",
    "\n",
    "print('x_train shape:', x_train.shape)\n",
    "print(x_train.shape[0], 'train samples')\n",
    "print(x_val.shape[0], 'val samples')\n",
    "print(x_test.shape[0], 'test samples')"
   ]
  },
  {
   "cell_type": "code",
   "execution_count": 26,
   "metadata": {
    "scrolled": true
   },
   "outputs": [
    {
     "name": "stdout",
     "output_type": "stream",
     "text": [
      "Train on 50000 samples, validate on 10000 samples\n",
      "Epoch 1/30\n",
      "50000/50000 [==============================] - 5s 99us/step - loss: 0.6197 - acc: 0.8006 - val_loss: 0.0763 - val_acc: 0.9761\n",
      "Epoch 2/30\n",
      "50000/50000 [==============================] - 2s 48us/step - loss: 0.1030 - acc: 0.9679 - val_loss: 0.0427 - val_acc: 0.9872\n",
      "Epoch 3/30\n",
      "50000/50000 [==============================] - 2s 48us/step - loss: 0.0732 - acc: 0.9782 - val_loss: 0.0330 - val_acc: 0.9903\n",
      "Epoch 4/30\n",
      "50000/50000 [==============================] - 2s 48us/step - loss: 0.0599 - acc: 0.9820 - val_loss: 0.0326 - val_acc: 0.9893\n",
      "Epoch 5/30\n",
      "50000/50000 [==============================] - 2s 47us/step - loss: 0.0493 - acc: 0.9847 - val_loss: 0.0269 - val_acc: 0.9911\n",
      "Epoch 6/30\n",
      "50000/50000 [==============================] - 2s 49us/step - loss: 0.0446 - acc: 0.9864 - val_loss: 0.0265 - val_acc: 0.9917\n",
      "Epoch 7/30\n",
      "50000/50000 [==============================] - 2s 47us/step - loss: 0.0373 - acc: 0.9885 - val_loss: 0.0244 - val_acc: 0.9924\n",
      "Epoch 8/30\n",
      "50000/50000 [==============================] - 2s 48us/step - loss: 0.0363 - acc: 0.9891 - val_loss: 0.0273 - val_acc: 0.9915\n",
      "Epoch 9/30\n",
      "50000/50000 [==============================] - 2s 48us/step - loss: 0.0328 - acc: 0.9900 - val_loss: 0.0284 - val_acc: 0.9912\n",
      "Epoch 10/30\n",
      "50000/50000 [==============================] - 2s 47us/step - loss: 0.0293 - acc: 0.9910 - val_loss: 0.0216 - val_acc: 0.9933\n",
      "Epoch 11/30\n",
      "50000/50000 [==============================] - 2s 47us/step - loss: 0.0272 - acc: 0.9916 - val_loss: 0.0228 - val_acc: 0.9930\n",
      "Epoch 12/30\n",
      "50000/50000 [==============================] - 2s 48us/step - loss: 0.0252 - acc: 0.9920 - val_loss: 0.0217 - val_acc: 0.9930\n",
      "Epoch 13/30\n",
      "50000/50000 [==============================] - 2s 47us/step - loss: 0.0228 - acc: 0.9928 - val_loss: 0.0243 - val_acc: 0.9930\n",
      "Epoch 14/30\n",
      "50000/50000 [==============================] - 2s 48us/step - loss: 0.0240 - acc: 0.9925 - val_loss: 0.0207 - val_acc: 0.9938\n",
      "Epoch 15/30\n",
      "50000/50000 [==============================] - 2s 47us/step - loss: 0.0203 - acc: 0.9934 - val_loss: 0.0217 - val_acc: 0.9942\n",
      "Epoch 16/30\n",
      "50000/50000 [==============================] - 2s 48us/step - loss: 0.0191 - acc: 0.9937 - val_loss: 0.0231 - val_acc: 0.9936\n",
      "Epoch 17/30\n",
      "50000/50000 [==============================] - 2s 47us/step - loss: 0.0186 - acc: 0.9942 - val_loss: 0.0201 - val_acc: 0.9933\n",
      "Epoch 18/30\n",
      "50000/50000 [==============================] - 2s 46us/step - loss: 0.0162 - acc: 0.9949 - val_loss: 0.0223 - val_acc: 0.9945\n",
      "Epoch 19/30\n",
      "50000/50000 [==============================] - 2s 46us/step - loss: 0.0153 - acc: 0.9953 - val_loss: 0.0210 - val_acc: 0.9938\n",
      "Epoch 20/30\n",
      "50000/50000 [==============================] - 2s 46us/step - loss: 0.0146 - acc: 0.9952 - val_loss: 0.0209 - val_acc: 0.9943\n",
      "Epoch 21/30\n",
      "50000/50000 [==============================] - 2s 46us/step - loss: 0.0129 - acc: 0.9960 - val_loss: 0.0195 - val_acc: 0.9945\n",
      "Epoch 22/30\n",
      "50000/50000 [==============================] - 2s 46us/step - loss: 0.0120 - acc: 0.9958 - val_loss: 0.0216 - val_acc: 0.9946\n",
      "Epoch 23/30\n",
      "50000/50000 [==============================] - 2s 46us/step - loss: 0.0128 - acc: 0.9957 - val_loss: 0.0218 - val_acc: 0.9947\n",
      "Epoch 24/30\n",
      "50000/50000 [==============================] - 2s 46us/step - loss: 0.0115 - acc: 0.9962 - val_loss: 0.0199 - val_acc: 0.9951\n",
      "Epoch 25/30\n",
      "50000/50000 [==============================] - 2s 46us/step - loss: 0.0114 - acc: 0.9960 - val_loss: 0.0237 - val_acc: 0.9936\n",
      "Epoch 26/30\n",
      "50000/50000 [==============================] - 2s 46us/step - loss: 0.0108 - acc: 0.9967 - val_loss: 0.0226 - val_acc: 0.9940\n",
      "Epoch 27/30\n",
      "50000/50000 [==============================] - 2s 47us/step - loss: 0.0095 - acc: 0.9967 - val_loss: 0.0235 - val_acc: 0.9942\n",
      "Epoch 28/30\n",
      "50000/50000 [==============================] - 2s 47us/step - loss: 0.0106 - acc: 0.9965 - val_loss: 0.0208 - val_acc: 0.9949\n",
      "Epoch 29/30\n",
      "50000/50000 [==============================] - 2s 48us/step - loss: 0.0099 - acc: 0.9970 - val_loss: 0.0232 - val_acc: 0.9944\n",
      "Epoch 30/30\n",
      "50000/50000 [==============================] - 2s 47us/step - loss: 0.0094 - acc: 0.9972 - val_loss: 0.0235 - val_acc: 0.9946\n"
     ]
    }
   ],
   "source": [
    "batch_size = 1024\n",
    "\n",
    "lrate95 = LearningRateScheduler(lambda epoch: max(1e-4, 0.005 * 0.95**epoch))\n",
    "ckptF = ModelCheckpoint('modelDAF.h5', monitor='val_loss', verbose=0, save_best_only=True)\n",
    "\n",
    "def output_logits_orig(X):\n",
    "    # https://www.kaggle.com/yassineghouzam/introduction-to-cnn-keras-0-997-top-6\n",
    "    X = Conv2D(32, (5,5), padding='same', activation='relu')(X)\n",
    "    X = Conv2D(32, (5,5), padding='same', activation='relu')(X)\n",
    "    X = MaxPooling2D((2,2))(X)\n",
    "    X = Dropout(0.25)(X)\n",
    "    X = Conv2D(64, (3,3), padding='same', activation='relu')(X)\n",
    "    X = Conv2D(64, (3,3), padding='same', activation='relu')(X)\n",
    "    X = MaxPooling2D((2,2))(X)\n",
    "    X = Dropout(0.25)(X)\n",
    "    X = Flatten()(X)\n",
    "    X = Dense(256, activation='relu')(X)\n",
    "    X = Dropout(0.5)(X)\n",
    "    X = Dense(10, activation=None)(X)\n",
    "    return X\n",
    "\n",
    "def output_logits_res(X):\n",
    "    Xr = X\n",
    "    X = Conv2D(64, (5,5), padding='same', activation='relu')(X)\n",
    "    X = Conv2D(64, (5,5), padding='same', activation=None)(X)\n",
    "    X = Add()([X, Xr])\n",
    "    X = Activation('relu')(X)\n",
    "    X = MaxPooling2D((2,2))(X)\n",
    "    X = Dropout(0.25)(X)\n",
    "    Xr = X\n",
    "    X = Conv2D(64, (3,3), padding='same', activation='relu')(X)\n",
    "    X = Conv2D(64, (3,3), padding='same', activation=None)(X)\n",
    "    X = Add()([X, Xr])\n",
    "    X = Activation('relu')(X)\n",
    "    X = MaxPooling2D((2,2))(X)\n",
    "    X = Dropout(0.25)(X)\n",
    "    X = Flatten()(X)\n",
    "    X = Dense(256, activation='relu')(X)\n",
    "    X = Dropout(0.5)(X)\n",
    "    X = Dense(10, activation=None)(X)\n",
    "    return X\n",
    "\n",
    "\n",
    "def output_logits(X):\n",
    "    X = Conv2D(32, (5,5), padding='same', activation='relu')(X)\n",
    "    X = Conv2D(32, (5,5), padding='same', activation='relu')(X)\n",
    "    X = MaxPooling2D((2,2))(X)\n",
    "    X = Dropout(0.25)(X)\n",
    "    \n",
    "    X = Conv2D(32, (3,3), padding='same', activation='relu')(X)\n",
    "    X = Conv2D(32, (3,3), padding='same', activation='relu')(X)\n",
    "    X = MaxPooling2D((2,2))(X)\n",
    "    X = Dropout(0.25)(X)\n",
    "    X = Flatten()(X)\n",
    "    \n",
    "    X = Dense(256, activation='relu')(X)\n",
    "    X = Dropout(0.5)(X)\n",
    "    X = Dense(10, activation=None)(X)\n",
    "    return X\n",
    "    \n",
    "X_input = Input(shape=x_train.shape[1:])\n",
    "X = output_logits(X_input)\n",
    "X = Activation('softmax')(X)\n",
    "modelF = Model(X_input, X)\n",
    "modelF.compile(loss=keras.losses.categorical_crossentropy, optimizer=keras.optimizers.Adam(), metrics=['accuracy'])\n",
    "histf = modelF.fit(x_train, y_train, batch_size=batch_size, epochs=30, callbacks=[lrate95, ckptF], verbose=1, validation_data=(x_val, y_val))\n",
    "modelF = load_model('modelDAF.h5')"
   ]
  },
  {
   "cell_type": "code",
   "execution_count": 4,
   "metadata": {},
   "outputs": [],
   "source": [
    "modelF = load_model('modelDAF.h5')\n",
    "yp = modelF.predict(x_train_aug)\n",
    "match = (np.argmax(yp, -1) == np.argmax(y_train_aug, -1))"
   ]
  },
  {
   "cell_type": "code",
   "execution_count": 34,
   "metadata": {},
   "outputs": [],
   "source": [
    "x_train_aug_filt = x_train_aug[match]\n",
    "y_train_aug_filt = y_train_aug[match]"
   ]
  },
  {
   "cell_type": "code",
   "execution_count": null,
   "metadata": {},
   "outputs": [],
   "source": []
  },
  {
   "cell_type": "markdown",
   "metadata": {},
   "source": [
    "## Remove \"bad\" augmented data from the \"major-elastic-deformation\" dataset\n",
    "\n",
    "Use the filtered version of the minor-elastic-deformation dataset as training data and train the powerful CNN model on it. Then, use the updated model to throw out bad data from the major-elastic-deformation dataset, similar to what was done for the minior-elastic-deformation dataset."
   ]
  },
  {
   "cell_type": "code",
   "execution_count": 35,
   "metadata": {},
   "outputs": [
    {
     "name": "stdout",
     "output_type": "stream",
     "text": [
      "Train on 198921 samples, validate on 10000 samples\n",
      "Epoch 1/30\n",
      "198921/198921 [==============================] - 12s 61us/step - loss: 0.1964 - acc: 0.9353 - val_loss: 0.0399 - val_acc: 0.9879\n",
      "Epoch 2/30\n",
      "198921/198921 [==============================] - 9s 47us/step - loss: 0.0533 - acc: 0.9832 - val_loss: 0.0321 - val_acc: 0.9910\n",
      "Epoch 3/30\n",
      "198921/198921 [==============================] - 9s 47us/step - loss: 0.0405 - acc: 0.9872 - val_loss: 0.0237 - val_acc: 0.9924\n",
      "Epoch 4/30\n",
      "198921/198921 [==============================] - 9s 47us/step - loss: 0.0330 - acc: 0.9898 - val_loss: 0.0257 - val_acc: 0.9929\n",
      "Epoch 5/30\n",
      "198921/198921 [==============================] - 9s 47us/step - loss: 0.0280 - acc: 0.9911 - val_loss: 0.0272 - val_acc: 0.9929\n",
      "Epoch 6/30\n",
      "198921/198921 [==============================] - 9s 47us/step - loss: 0.0244 - acc: 0.9921 - val_loss: 0.0216 - val_acc: 0.9939\n",
      "Epoch 7/30\n",
      "198921/198921 [==============================] - 9s 47us/step - loss: 0.0229 - acc: 0.9925 - val_loss: 0.0220 - val_acc: 0.9949\n",
      "Epoch 8/30\n",
      "198921/198921 [==============================] - 9s 47us/step - loss: 0.0210 - acc: 0.9933 - val_loss: 0.0301 - val_acc: 0.9934\n",
      "Epoch 9/30\n",
      "198921/198921 [==============================] - 9s 47us/step - loss: 0.0207 - acc: 0.9932 - val_loss: 0.0238 - val_acc: 0.9944\n",
      "Epoch 10/30\n",
      "198921/198921 [==============================] - 9s 47us/step - loss: 0.0177 - acc: 0.9944 - val_loss: 0.0266 - val_acc: 0.9946\n",
      "Epoch 11/30\n",
      "198921/198921 [==============================] - 9s 47us/step - loss: 0.0173 - acc: 0.9944 - val_loss: 0.0270 - val_acc: 0.9949\n",
      "Epoch 12/30\n",
      "198921/198921 [==============================] - 9s 46us/step - loss: 0.0154 - acc: 0.9949 - val_loss: 0.0258 - val_acc: 0.9948\n",
      "Epoch 13/30\n",
      "198921/198921 [==============================] - 9s 47us/step - loss: 0.0144 - acc: 0.9952 - val_loss: 0.0284 - val_acc: 0.9948\n",
      "Epoch 14/30\n",
      "198921/198921 [==============================] - 9s 47us/step - loss: 0.0142 - acc: 0.9954 - val_loss: 0.0233 - val_acc: 0.9952\n",
      "Epoch 15/30\n",
      "198921/198921 [==============================] - 9s 47us/step - loss: 0.0136 - acc: 0.9955 - val_loss: 0.0279 - val_acc: 0.9949\n",
      "Epoch 16/30\n",
      "198921/198921 [==============================] - 9s 47us/step - loss: 0.0128 - acc: 0.9957 - val_loss: 0.0256 - val_acc: 0.9950\n",
      "Epoch 17/30\n",
      "198921/198921 [==============================] - 9s 47us/step - loss: 0.0115 - acc: 0.9962 - val_loss: 0.0210 - val_acc: 0.9957\n",
      "Epoch 18/30\n",
      "198921/198921 [==============================] - 9s 47us/step - loss: 0.0110 - acc: 0.9963 - val_loss: 0.0256 - val_acc: 0.9948\n",
      "Epoch 19/30\n",
      "198921/198921 [==============================] - 9s 47us/step - loss: 0.0099 - acc: 0.9966 - val_loss: 0.0253 - val_acc: 0.9951\n",
      "Epoch 20/30\n",
      "198921/198921 [==============================] - 9s 47us/step - loss: 0.0093 - acc: 0.9969 - val_loss: 0.0275 - val_acc: 0.9953\n",
      "Epoch 21/30\n",
      "198921/198921 [==============================] - 9s 47us/step - loss: 0.0096 - acc: 0.9969 - val_loss: 0.0276 - val_acc: 0.9947\n",
      "Epoch 22/30\n",
      "198921/198921 [==============================] - 9s 47us/step - loss: 0.0088 - acc: 0.9972 - val_loss: 0.0285 - val_acc: 0.9948\n",
      "Epoch 23/30\n",
      "198921/198921 [==============================] - 9s 47us/step - loss: 0.0079 - acc: 0.9974 - val_loss: 0.0271 - val_acc: 0.9954\n",
      "Epoch 24/30\n",
      "198921/198921 [==============================] - 9s 47us/step - loss: 0.0076 - acc: 0.9975 - val_loss: 0.0284 - val_acc: 0.9955\n",
      "Epoch 25/30\n",
      "198921/198921 [==============================] - 9s 47us/step - loss: 0.0072 - acc: 0.9976 - val_loss: 0.0284 - val_acc: 0.9950\n",
      "Epoch 26/30\n",
      "198921/198921 [==============================] - 9s 47us/step - loss: 0.0072 - acc: 0.9976 - val_loss: 0.0263 - val_acc: 0.9955\n",
      "Epoch 27/30\n",
      "198921/198921 [==============================] - 9s 47us/step - loss: 0.0064 - acc: 0.9979 - val_loss: 0.0288 - val_acc: 0.9953\n",
      "Epoch 28/30\n",
      "198921/198921 [==============================] - 9s 46us/step - loss: 0.0060 - acc: 0.9979 - val_loss: 0.0261 - val_acc: 0.9953\n",
      "Epoch 29/30\n",
      "198921/198921 [==============================] - 9s 47us/step - loss: 0.0060 - acc: 0.9980 - val_loss: 0.0301 - val_acc: 0.9949\n",
      "Epoch 30/30\n",
      "198921/198921 [==============================] - 9s 46us/step - loss: 0.0059 - acc: 0.9980 - val_loss: 0.0291 - val_acc: 0.9957\n"
     ]
    }
   ],
   "source": [
    "lrate95 = LearningRateScheduler(lambda epoch: max(1e-4, 0.005 * 0.95**epoch))\n",
    "ckptF = ModelCheckpoint('modelDAbF.h5', monitor='val_loss', verbose=0, save_best_only=True)\n",
    "\n",
    "X_input = Input(shape=x_train.shape[1:])\n",
    "X = output_logits(X_input)\n",
    "X = Activation('softmax')(X)\n",
    "modelF = Model(X_input, X)\n",
    "modelF.compile(loss=keras.losses.categorical_crossentropy, optimizer=keras.optimizers.Adam(), metrics=['accuracy'])\n",
    "histf = modelF.fit(x_train_aug_filt, y_train_aug_filt, batch_size=batch_size, epochs=30, callbacks=[lrate95, ckptF], verbose=1, validation_data=(x_val, y_val))\n",
    "modelF = load_model('modelDAbF.h5')"
   ]
  },
  {
   "cell_type": "code",
   "execution_count": 5,
   "metadata": {},
   "outputs": [],
   "source": [
    "modelF = load_model('modelDAbF.h5')\n",
    "yph = modelF.predict(x_train_augh)\n",
    "matchh = (np.argmax(yph, -1) == np.argmax(y_train_augh, -1))"
   ]
  },
  {
   "cell_type": "code",
   "execution_count": null,
   "metadata": {},
   "outputs": [],
   "source": []
  },
  {
   "cell_type": "markdown",
   "metadata": {},
   "source": [
    "## Combine augmented datasets and save\n",
    "\n",
    "After combining the datasets, try training a fresh network on this dataset and see how validation accuracy improves."
   ]
  },
  {
   "cell_type": "code",
   "execution_count": 53,
   "metadata": {},
   "outputs": [],
   "source": [
    "x_train_full = np.concatenate([x_train_aug[match], x_train_augh[matchh]], axis=0)\n",
    "y_train_full = np.concatenate([y_train_aug[match], y_train_augh[matchh]], axis=0)\n",
    "\n",
    "np.random.seed(0)\n",
    "rsel = np.random.choice(range(x_train_full.shape[0]), 200000, replace=False)"
   ]
  },
  {
   "cell_type": "code",
   "execution_count": 54,
   "metadata": {},
   "outputs": [],
   "source": [
    "with open('augmented_x_200k_v2.npy', 'wb') as f:\n",
    "    np.save(f, x_train_full[rsel])\n",
    "with open('augmented_y_200k_v2.npy', 'wb') as f:\n",
    "    np.save(f, y_train_full[rsel])"
   ]
  },
  {
   "cell_type": "code",
   "execution_count": 55,
   "metadata": {},
   "outputs": [],
   "source": [
    "with open('augmented_x_200k_v2.npy', 'rb') as f:\n",
    "    x_train_full = np.load(f)\n",
    "with open('augmented_y_200k_v2.npy', 'rb') as f:\n",
    "    y_train_full = np.load(f)"
   ]
  },
  {
   "cell_type": "code",
   "execution_count": 59,
   "metadata": {},
   "outputs": [
    {
     "name": "stdout",
     "output_type": "stream",
     "text": [
      "Train on 200000 samples, validate on 10000 samples\n",
      "Epoch 1/30\n",
      "200000/200000 [==============================] - 12s 61us/step - loss: 0.2343 - acc: 0.9239 - val_loss: 0.0373 - val_acc: 0.9892\n",
      "Epoch 2/30\n",
      "200000/200000 [==============================] - 9s 47us/step - loss: 0.0621 - acc: 0.9802 - val_loss: 0.0287 - val_acc: 0.9913\n",
      "Epoch 3/30\n",
      "200000/200000 [==============================] - 9s 45us/step - loss: 0.0453 - acc: 0.9856 - val_loss: 0.0250 - val_acc: 0.9936\n",
      "Epoch 4/30\n",
      "200000/200000 [==============================] - 9s 45us/step - loss: 0.0378 - acc: 0.9880 - val_loss: 0.0280 - val_acc: 0.9942\n",
      "Epoch 5/30\n",
      "200000/200000 [==============================] - 9s 45us/step - loss: 0.0343 - acc: 0.9889 - val_loss: 0.0257 - val_acc: 0.9943\n",
      "Epoch 6/30\n",
      "200000/200000 [==============================] - 9s 44us/step - loss: 0.0318 - acc: 0.9897 - val_loss: 0.0332 - val_acc: 0.9927\n",
      "Epoch 7/30\n",
      "200000/200000 [==============================] - 9s 44us/step - loss: 0.0278 - acc: 0.9910 - val_loss: 0.0256 - val_acc: 0.9939\n",
      "Epoch 8/30\n",
      "200000/200000 [==============================] - 9s 44us/step - loss: 0.0234 - acc: 0.9924 - val_loss: 0.0280 - val_acc: 0.9942\n",
      "Epoch 9/30\n",
      "200000/200000 [==============================] - 9s 45us/step - loss: 0.0224 - acc: 0.9927 - val_loss: 0.0234 - val_acc: 0.9945\n",
      "Epoch 10/30\n",
      "200000/200000 [==============================] - 9s 44us/step - loss: 0.0212 - acc: 0.9930 - val_loss: 0.0288 - val_acc: 0.9946\n",
      "Epoch 11/30\n",
      "200000/200000 [==============================] - 9s 45us/step - loss: 0.0210 - acc: 0.9931 - val_loss: 0.0267 - val_acc: 0.9952\n",
      "Epoch 12/30\n",
      "200000/200000 [==============================] - 9s 44us/step - loss: 0.0184 - acc: 0.9939 - val_loss: 0.0261 - val_acc: 0.9945\n",
      "Epoch 13/30\n",
      "200000/200000 [==============================] - 9s 44us/step - loss: 0.0184 - acc: 0.9940 - val_loss: 0.0258 - val_acc: 0.9950\n",
      "Epoch 14/30\n",
      "200000/200000 [==============================] - 9s 43us/step - loss: 0.0168 - acc: 0.9944 - val_loss: 0.0224 - val_acc: 0.9948\n",
      "Epoch 15/30\n",
      "200000/200000 [==============================] - 9s 44us/step - loss: 0.0157 - acc: 0.9948 - val_loss: 0.0289 - val_acc: 0.9947\n",
      "Epoch 16/30\n",
      "200000/200000 [==============================] - 9s 45us/step - loss: 0.0144 - acc: 0.9952 - val_loss: 0.0261 - val_acc: 0.9954\n",
      "Epoch 17/30\n",
      "200000/200000 [==============================] - 9s 46us/step - loss: 0.0140 - acc: 0.9954 - val_loss: 0.0301 - val_acc: 0.9945\n",
      "Epoch 18/30\n",
      "200000/200000 [==============================] - 9s 46us/step - loss: 0.0142 - acc: 0.9953 - val_loss: 0.0269 - val_acc: 0.9955\n",
      "Epoch 19/30\n",
      "200000/200000 [==============================] - 9s 46us/step - loss: 0.0135 - acc: 0.9955 - val_loss: 0.0270 - val_acc: 0.9956\n",
      "Epoch 20/30\n",
      "200000/200000 [==============================] - 9s 46us/step - loss: 0.0115 - acc: 0.9962 - val_loss: 0.0294 - val_acc: 0.9944\n",
      "Epoch 21/30\n",
      "200000/200000 [==============================] - 9s 45us/step - loss: 0.0116 - acc: 0.9962 - val_loss: 0.0291 - val_acc: 0.9955\n",
      "Epoch 22/30\n",
      "200000/200000 [==============================] - 9s 45us/step - loss: 0.0109 - acc: 0.9964 - val_loss: 0.0277 - val_acc: 0.9950\n",
      "Epoch 23/30\n",
      "200000/200000 [==============================] - 9s 46us/step - loss: 0.0112 - acc: 0.9962 - val_loss: 0.0273 - val_acc: 0.9949\n",
      "Epoch 24/30\n",
      "200000/200000 [==============================] - 9s 46us/step - loss: 0.0093 - acc: 0.9968 - val_loss: 0.0292 - val_acc: 0.9948\n",
      "Epoch 25/30\n",
      "200000/200000 [==============================] - 9s 46us/step - loss: 0.0100 - acc: 0.9968 - val_loss: 0.0283 - val_acc: 0.9955\n",
      "Epoch 26/30\n",
      "200000/200000 [==============================] - 9s 46us/step - loss: 0.0088 - acc: 0.9971 - val_loss: 0.0276 - val_acc: 0.9954\n",
      "Epoch 27/30\n",
      "200000/200000 [==============================] - 9s 45us/step - loss: 0.0087 - acc: 0.9971 - val_loss: 0.0272 - val_acc: 0.9951\n",
      "Epoch 28/30\n",
      "200000/200000 [==============================] - 9s 45us/step - loss: 0.0081 - acc: 0.9974 - val_loss: 0.0283 - val_acc: 0.9954\n",
      "Epoch 29/30\n",
      "200000/200000 [==============================] - 9s 46us/step - loss: 0.0073 - acc: 0.9977 - val_loss: 0.0324 - val_acc: 0.9958\n",
      "Epoch 30/30\n",
      "200000/200000 [==============================] - 9s 45us/step - loss: 0.0083 - acc: 0.9972 - val_loss: 0.0308 - val_acc: 0.9954\n"
     ]
    }
   ],
   "source": [
    "lrate95 = LearningRateScheduler(lambda epoch: max(1e-4, 0.005 * 0.95**epoch))\n",
    "ckptF = ModelCheckpoint('modelDAcF.h5', monitor='val_loss', verbose=0, save_best_only=True)\n",
    "\n",
    "X_input = Input(shape=x_train.shape[1:])\n",
    "X = output_logits(X_input)\n",
    "X = Activation('softmax')(X)\n",
    "modelF = Model(X_input, X)\n",
    "modelF.compile(loss=keras.losses.categorical_crossentropy, optimizer=keras.optimizers.Adam(), metrics=['accuracy'])\n",
    "histf = modelF.fit(x_train_full, y_train_full, batch_size=batch_size, epochs=30, callbacks=[lrate95, ckptF], verbose=1, validation_data=(x_val, y_val))\n",
    "modelF = load_model('modelDAcF.h5')"
   ]
  },
  {
   "cell_type": "code",
   "execution_count": null,
   "metadata": {},
   "outputs": [],
   "source": []
  },
  {
   "cell_type": "markdown",
   "metadata": {},
   "source": [
    "## Reduce the number of \"hard\" examples and instead just use them to fill to 200k samples\n",
    "\n",
    "Randomly select examples from the major-deformations dataset to add to the minor-deformations dataset in order to have exactly 200k training examples. Check the final performance of the CNN on this dataset.\n",
    "\n",
    "We did not end up using this dataset."
   ]
  },
  {
   "cell_type": "code",
   "execution_count": 12,
   "metadata": {},
   "outputs": [],
   "source": [
    "np.random.seed(0)\n",
    "rsel = np.random.choice(range(x_train_augh.shape[0]), 200000 - x_train_aug.shape[0], replace=False)\n",
    "\n",
    "x_train_full = np.concatenate([x_train_aug, x_train_augh[rsel]])\n",
    "y_train_full = np.concatenate([y_train_aug, y_train_augh[rsel]])\n",
    "\n",
    "idx = range(200000)\n",
    "np.random.seed(0)\n",
    "np.random.shuffle(idx)\n",
    "\n",
    "x_train_full = x_train_full[idx]\n",
    "y_train_full = y_train_full[idx]"
   ]
  },
  {
   "cell_type": "code",
   "execution_count": 16,
   "metadata": {},
   "outputs": [],
   "source": [
    "with open('augmented_x_200k_v3.npy', 'wb') as f:\n",
    "    np.save(f, x_train_full)\n",
    "with open('augmented_y_200k_v3.npy', 'wb') as f:\n",
    "    np.save(f, y_train_full)"
   ]
  },
  {
   "cell_type": "code",
   "execution_count": 55,
   "metadata": {},
   "outputs": [],
   "source": [
    "with open('augmented_x_200k_v3.npy', 'rb') as f:\n",
    "    x_train_full = np.load(f)\n",
    "with open('augmented_y_200k_v3.npy', 'rb') as f:\n",
    "    y_train_full = np.load(f)"
   ]
  },
  {
   "cell_type": "code",
   "execution_count": 20,
   "metadata": {},
   "outputs": [
    {
     "name": "stdout",
     "output_type": "stream",
     "text": [
      "Train on 200000 samples, validate on 10000 samples\n",
      "Epoch 1/30\n",
      "200000/200000 [==============================] - 459s 2ms/step - loss: 0.2073 - acc: 0.9327 - val_loss: 0.0382 - val_acc: 0.9893\n",
      "Epoch 2/30\n",
      "200000/200000 [==============================] - 472s 2ms/step - loss: 0.0624 - acc: 0.9815 - val_loss: 0.0251 - val_acc: 0.9928\n",
      "Epoch 3/30\n",
      "200000/200000 [==============================] - 470s 2ms/step - loss: 0.0486 - acc: 0.9852 - val_loss: 0.0264 - val_acc: 0.9926\n",
      "Epoch 4/30\n",
      "200000/200000 [==============================] - 418s 2ms/step - loss: 0.0401 - acc: 0.9874 - val_loss: 0.0240 - val_acc: 0.9935\n",
      "Epoch 5/30\n",
      "200000/200000 [==============================] - 419s 2ms/step - loss: 0.0379 - acc: 0.9884 - val_loss: 0.0215 - val_acc: 0.9947\n",
      "Epoch 6/30\n",
      "200000/200000 [==============================] - 419s 2ms/step - loss: 0.0335 - acc: 0.9895 - val_loss: 0.0221 - val_acc: 0.9946\n",
      "Epoch 7/30\n",
      "200000/200000 [==============================] - 418s 2ms/step - loss: 0.0289 - acc: 0.9911 - val_loss: 0.0236 - val_acc: 0.9942\n",
      "Epoch 8/30\n",
      "200000/200000 [==============================] - 418s 2ms/step - loss: 0.0273 - acc: 0.9912 - val_loss: 0.0261 - val_acc: 0.9940\n",
      "Epoch 9/30\n",
      "200000/200000 [==============================] - 418s 2ms/step - loss: 0.0269 - acc: 0.9916 - val_loss: 0.0256 - val_acc: 0.9945\n",
      "Epoch 10/30\n",
      "200000/200000 [==============================] - 418s 2ms/step - loss: 0.0243 - acc: 0.9922 - val_loss: 0.0242 - val_acc: 0.9943\n",
      "Epoch 11/30\n",
      "200000/200000 [==============================] - 424s 2ms/step - loss: 0.0226 - acc: 0.9926 - val_loss: 0.0271 - val_acc: 0.9939\n",
      "Epoch 12/30\n",
      "200000/200000 [==============================] - 432s 2ms/step - loss: 0.0221 - acc: 0.9926 - val_loss: 0.0230 - val_acc: 0.9957\n",
      "Epoch 13/30\n",
      "200000/200000 [==============================] - 460s 2ms/step - loss: 0.0204 - acc: 0.9933 - val_loss: 0.0261 - val_acc: 0.9941\n",
      "Epoch 14/30\n",
      "200000/200000 [==============================] - 481s 2ms/step - loss: 0.0184 - acc: 0.9940 - val_loss: 0.0236 - val_acc: 0.9949\n",
      "Epoch 15/30\n",
      "200000/200000 [==============================] - 484s 2ms/step - loss: 0.0185 - acc: 0.9941 - val_loss: 0.0237 - val_acc: 0.9947\n",
      "Epoch 16/30\n",
      "200000/200000 [==============================] - 444s 2ms/step - loss: 0.0170 - acc: 0.9945 - val_loss: 0.0242 - val_acc: 0.9947\n",
      "Epoch 17/30\n",
      "200000/200000 [==============================] - 469s 2ms/step - loss: 0.0165 - acc: 0.9947 - val_loss: 0.0246 - val_acc: 0.9955\n",
      "Epoch 18/30\n",
      "200000/200000 [==============================] - 477s 2ms/step - loss: 0.0153 - acc: 0.9949 - val_loss: 0.0253 - val_acc: 0.9955\n",
      "Epoch 19/30\n",
      "200000/200000 [==============================] - 483s 2ms/step - loss: 0.0143 - acc: 0.9953 - val_loss: 0.0279 - val_acc: 0.9950\n",
      "Epoch 20/30\n",
      "200000/200000 [==============================] - 449s 2ms/step - loss: 0.0133 - acc: 0.9956 - val_loss: 0.0271 - val_acc: 0.9951\n",
      "Epoch 21/30\n",
      "200000/200000 [==============================] - 448s 2ms/step - loss: 0.0128 - acc: 0.9959 - val_loss: 0.0261 - val_acc: 0.9949\n",
      "Epoch 22/30\n",
      "200000/200000 [==============================] - 488s 2ms/step - loss: 0.0130 - acc: 0.9958 - val_loss: 0.0254 - val_acc: 0.9949\n",
      "Epoch 23/30\n",
      "200000/200000 [==============================] - 486s 2ms/step - loss: 0.0119 - acc: 0.9961 - val_loss: 0.0257 - val_acc: 0.9954\n",
      "Epoch 24/30\n",
      "200000/200000 [==============================] - 463s 2ms/step - loss: 0.0110 - acc: 0.9963 - val_loss: 0.0279 - val_acc: 0.9960\n",
      "Epoch 25/30\n",
      "200000/200000 [==============================] - 402s 2ms/step - loss: 0.0110 - acc: 0.9964 - val_loss: 0.0269 - val_acc: 0.9952\n",
      "Epoch 26/30\n",
      "200000/200000 [==============================] - 405s 2ms/step - loss: 0.0099 - acc: 0.9967 - val_loss: 0.0288 - val_acc: 0.9956\n",
      "Epoch 27/30\n",
      "200000/200000 [==============================] - 402s 2ms/step - loss: 0.0099 - acc: 0.9968 - val_loss: 0.0271 - val_acc: 0.9953\n",
      "Epoch 28/30\n",
      "200000/200000 [==============================] - 405s 2ms/step - loss: 0.0097 - acc: 0.9968 - val_loss: 0.0286 - val_acc: 0.9955\n",
      "Epoch 29/30\n",
      "200000/200000 [==============================] - 405s 2ms/step - loss: 0.0096 - acc: 0.9970 - val_loss: 0.0267 - val_acc: 0.9954\n",
      "Epoch 30/30\n",
      "200000/200000 [==============================] - 426s 2ms/step - loss: 0.0081 - acc: 0.9973 - val_loss: 0.0264 - val_acc: 0.9956\n"
     ]
    }
   ],
   "source": [
    "batch_size = 1024\n",
    "lrate95 = LearningRateScheduler(lambda epoch: max(1e-4, 0.005 * 0.95**epoch))\n",
    "ckptF = ModelCheckpoint('modelDAdF.h5', monitor='val_loss', verbose=0, save_best_only=True)\n",
    "\n",
    "def output_logits(X):\n",
    "    X = Conv2D(32, (5,5), padding='same', activation='relu')(X)\n",
    "    X = Conv2D(32, (5,5), padding='same', activation='relu')(X)\n",
    "    X = MaxPooling2D((2,2))(X)\n",
    "    X = Dropout(0.25)(X)\n",
    "    \n",
    "    X = Conv2D(32, (3,3), padding='same', activation='relu')(X)\n",
    "    X = Conv2D(32, (3,3), padding='same', activation='relu')(X)\n",
    "    X = MaxPooling2D((2,2))(X)\n",
    "    X = Dropout(0.25)(X)\n",
    "    X = Flatten()(X)\n",
    "    \n",
    "    X = Dense(256, activation='relu')(X)\n",
    "    X = Dropout(0.5)(X)\n",
    "    X = Dense(10, activation=None)(X)\n",
    "    return X\n",
    "\n",
    "X_input = Input(shape=x_train.shape[1:])\n",
    "X = output_logits(X_input)\n",
    "X = Activation('softmax')(X)\n",
    "modelF = Model(X_input, X)\n",
    "modelF.compile(loss=keras.losses.categorical_crossentropy, optimizer=keras.optimizers.Adam(), metrics=['accuracy'])\n",
    "histf = modelF.fit(x_train_full, y_train_full, batch_size=batch_size, epochs=30, callbacks=[lrate95, ckptF], verbose=1, validation_data=(x_val, y_val))\n",
    "modelF = load_model('modelDAdF.h5')"
   ]
  },
  {
   "cell_type": "code",
   "execution_count": null,
   "metadata": {},
   "outputs": [],
   "source": []
  },
  {
   "cell_type": "code",
   "execution_count": null,
   "metadata": {},
   "outputs": [],
   "source": []
  }
 ],
 "metadata": {
  "kernelspec": {
   "display_name": "Python 2",
   "language": "python",
   "name": "python2"
  },
  "language_info": {
   "codemirror_mode": {
    "name": "ipython",
    "version": 2
   },
   "file_extension": ".py",
   "mimetype": "text/x-python",
   "name": "python",
   "nbconvert_exporter": "python",
   "pygments_lexer": "ipython2",
   "version": "2.7.14"
  }
 },
 "nbformat": 4,
 "nbformat_minor": 2
}
